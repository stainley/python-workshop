{
 "cells": [
  {
   "cell_type": "code",
   "execution_count": 20,
   "metadata": {
    "collapsed": true,
    "pycharm": {
     "is_executing": false
    }
   },
   "outputs": [
    {
     "name": "stdout",
     "text": [
      "['bread', 'milk', 'ham', 'eggs', 'apple']\n"
     ],
     "output_type": "stream"
    }
   ],
   "source": [
    "shopping = []\n",
    "shopping.append(\"bread\")\n",
    "shopping.append(\"milk\")\n",
    "shopping.append(\"eggs\")\n",
    "shopping.append(\"apple\")\n",
    "\n",
    "shopping.insert(2, \"ham\")\n",
    "\n",
    "print(shopping)\n",
    "\n",
    "employee = {\n",
    "    'name' : \"Jack Nelson\",\n",
    "    'age': 32,\n",
    "    'department': \"sales\"\n",
    "}"
   ]
  }
 ],
 "metadata": {
  "kernelspec": {
   "display_name": "Python 3",
   "language": "python",
   "name": "python3"
  },
  "language_info": {
   "codemirror_mode": {
    "name": "ipython",
    "version": 2
   },
   "file_extension": ".py",
   "mimetype": "text/x-python",
   "name": "python",
   "nbconvert_exporter": "python",
   "pygments_lexer": "ipython2",
   "version": "2.7.6"
  },
  "pycharm": {
   "stem_cell": {
    "cell_type": "raw",
    "source": [],
    "metadata": {
     "collapsed": false
    }
   }
  }
 },
 "nbformat": 4,
 "nbformat_minor": 0
}